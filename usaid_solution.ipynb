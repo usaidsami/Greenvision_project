{
 "cells": [
  {
   "cell_type": "code",
   "execution_count": null,
   "id": "a81fd663-cb4d-43e4-8bb0-20e2e831e80c",
   "metadata": {},
   "outputs": [
    {
     "name": "stdout",
     "output_type": "stream",
     "text": [
      "Collecting watermark\n",
      "  Downloading watermark-2.4.3-py2.py3-none-any.whl.metadata (1.4 kB)\n",
      "Requirement already satisfied: ipython>=6.0 in c:\\users\\shop\\anaconda3\\lib\\site-packages (from watermark) (8.26.0)\n",
      "Requirement already satisfied: importlib-metadata>=1.4 in c:\\users\\shop\\anaconda3\\lib\\site-packages (from watermark) (7.0.1)\n",
      "Requirement already satisfied: setuptools in c:\\users\\shop\\anaconda3\\lib\\site-packages (from watermark) (69.5.1)\n",
      "Requirement already satisfied: zipp>=0.5 in c:\\users\\shop\\anaconda3\\lib\\site-packages (from importlib-metadata>=1.4->watermark) (3.17.0)\n",
      "Requirement already satisfied: decorator in c:\\users\\shop\\anaconda3\\lib\\site-packages (from ipython>=6.0->watermark) (5.1.1)\n",
      "Requirement already satisfied: jedi>=0.16 in c:\\users\\shop\\anaconda3\\lib\\site-packages (from ipython>=6.0->watermark) (0.18.1)\n",
      "Requirement already satisfied: matplotlib-inline in c:\\users\\shop\\anaconda3\\lib\\site-packages (from ipython>=6.0->watermark) (0.1.6)\n",
      "Requirement already satisfied: prompt-toolkit<3.1.0,>=3.0.41 in c:\\users\\shop\\anaconda3\\lib\\site-packages (from ipython>=6.0->watermark) (3.0.43)\n",
      "Requirement already satisfied: pygments>=2.4.0 in c:\\users\\shop\\anaconda3\\lib\\site-packages (from ipython>=6.0->watermark) (2.15.1)\n",
      "Requirement already satisfied: stack-data in c:\\users\\shop\\anaconda3\\lib\\site-packages (from ipython>=6.0->watermark) (0.2.0)\n",
      "Requirement already satisfied: traitlets>=5.13.0 in c:\\users\\shop\\anaconda3\\lib\\site-packages (from ipython>=6.0->watermark) (5.14.3)\n",
      "Requirement already satisfied: colorama in c:\\users\\shop\\anaconda3\\lib\\site-packages (from ipython>=6.0->watermark) (0.4.6)\n",
      "Requirement already satisfied: parso<0.9.0,>=0.8.0 in c:\\users\\shop\\anaconda3\\lib\\site-packages (from jedi>=0.16->ipython>=6.0->watermark) (0.8.3)\n",
      "Requirement already satisfied: wcwidth in c:\\users\\shop\\anaconda3\\lib\\site-packages (from prompt-toolkit<3.1.0,>=3.0.41->ipython>=6.0->watermark) (0.2.5)\n",
      "Requirement already satisfied: executing in c:\\users\\shop\\anaconda3\\lib\\site-packages (from stack-data->ipython>=6.0->watermark) (0.8.3)\n",
      "Requirement already satisfied: asttokens in c:\\users\\shop\\anaconda3\\lib\\site-packages (from stack-data->ipython>=6.0->watermark) (2.0.5)\n",
      "Requirement already satisfied: pure-eval in c:\\users\\shop\\anaconda3\\lib\\site-packages (from stack-data->ipython>=6.0->watermark) (0.2.2)\n",
      "Requirement already satisfied: six in c:\\users\\shop\\anaconda3\\lib\\site-packages (from asttokens->stack-data->ipython>=6.0->watermark) (1.16.0)\n",
      "Downloading watermark-2.4.3-py2.py3-none-any.whl (7.6 kB)\n",
      "Installing collected packages: watermark\n",
      "Successfully installed watermark-2.4.3\n"
     ]
    }
   ],
   "source": [
    "!pip install watermark"
   ]
  },
  {
   "cell_type": "code",
   "execution_count": 1,
   "id": "8ea48053",
   "metadata": {},
   "outputs": [
    {
     "name": "stdout",
     "output_type": "stream",
     "text": [
      "Author: <Usaid_Sami>\n",
      "\n",
      "Last updated: 2024-09-01\n",
      "\n",
      "Python implementation: CPython\n",
      "Python version       : 3.12.1\n",
      "IPython version      : 8.26.0\n",
      "\n",
      "numpy     : 1.26.4\n",
      "scipy     : 1.14.1\n",
      "matplotlib: 3.9.0\n",
      "sklearn   : 1.5.1\n",
      "\n"
     ]
    }
   ],
   "source": [
    "%reload_ext watermark\n",
    "%watermark -d -u -a '<Usaid_Sami>' -v -p numpy,scipy,matplotlib,sklearn\n",
    "\n"
   ]
  },
  {
   "cell_type": "code",
   "execution_count": null,
   "id": "b26d3aa3",
   "metadata": {},
   "outputs": [],
   "source": [
    "import pandas as pd\n",
    "df = pd.read_csv('spam.csv', encoding='ISO-8859-1')  \n",
    "print(df.head())\n",
    "print(df.info())\n",
    "print(df.describe())\n",
    "\n",
    "\n"
   ]
  },
  {
   "cell_type": "code",
   "execution_count": null,
   "id": "83dfa9b5-8645-4b79-87f9-19214343e8dd",
   "metadata": {},
   "outputs": [
    {
     "name": "stdout",
     "output_type": "stream",
     "text": [
      "v1            0\n",
      "v2            0\n",
      "Unnamed: 2    0\n",
      "Unnamed: 3    0\n",
      "Unnamed: 4    0\n",
      "dtype: int64\n"
     ]
    }
   ],
   "source": [
    "df = df.dropna()  # or df.fillna(value)\n",
    "df = df.drop_duplicates()\n",
    "print(df.isnull().sum())\n"
   ]
  },
  {
   "cell_type": "code",
   "execution_count": null,
   "id": "ea0463f6-1df2-4f1d-a46f-bf910d293d7f",
   "metadata": {},
   "outputs": [
    {
     "name": "stdout",
     "output_type": "stream",
     "text": [
      "No numeric columns found for plotting.\n"
     ]
    }
   ],
   "source": [
    "import pandas as pd\n",
    "import seaborn as sns\n",
    "import matplotlib.pyplot as plt\n",
    "\n",
    "# Assuming df is your DataFrame\n",
    "# Check if df has numeric data types\n",
    "numeric_df = df.select_dtypes(include=['float64', 'int64'])\n",
    "\n",
    "# Ensure the dataframe has numerical columns\n",
    "if not numeric_df.empty:\n",
    "    # Pairplot for numerical columns\n",
    "    sns.pairplot(numeric_df)\n",
    "    plt.show()\n",
    "\n",
    "    # Heatmap for correlation matrix\n",
    "    sns.heatmap(numeric_df.corr(), annot=True)\n",
    "    plt.show()\n",
    "else:\n",
    "    print(\"No numeric columns found for plotting.\")\n"
   ]
  },
  {
   "cell_type": "code",
   "execution_count": null,
   "id": "7a3c5dc7-6f48-428b-881a-ebbf741d38a4",
   "metadata": {},
   "outputs": [
    {
     "name": "stdout",
     "output_type": "stream",
     "text": [
      "Empty DataFrame\n",
      "Columns: [v1, v2, new_feature]\n",
      "Index: []\n"
     ]
    }
   ],
   "source": [
    "import pandas as pd\n",
    "\n",
    "# Convert columns 'v1' and 'v2' to numeric, forcing errors to NaN\n",
    "df['v1'] = pd.to_numeric(df['v1'], errors='coerce')\n",
    "df['v2'] = pd.to_numeric(df['v2'], errors='coerce')\n",
    "\n",
    "# Handle or drop NaN values if they exist after conversion\n",
    "df = df.dropna(subset=['v1', 'v2'])  # Drop rows where 'v1' or 'v2' have NaN values\n",
    "\n",
    "# Now perform the multiplication\n",
    "df['new_feature'] = df['v1'] * df['v2']\n",
    "\n",
    "# Select the required features\n",
    "selected_features = df[['v1', 'v2', 'new_feature']]\n",
    "\n",
    "print(selected_features)\n"
   ]
  },
  {
   "cell_type": "code",
   "execution_count": null,
   "id": "4c859129-8750-4145-b014-43538968356d",
   "metadata": {},
   "outputs": [
    {
     "name": "stdout",
     "output_type": "stream",
     "text": [
      "The DataFrame `selected_features` is empty. Please check your data preparation steps.\n"
     ]
    }
   ],
   "source": [
    "from sklearn.preprocessing import StandardScaler\n",
    "import pandas as pd\n",
    "\n",
    "# Ensure `selected_features` is not empty\n",
    "if not selected_features.empty:\n",
    "    scaler = StandardScaler()\n",
    "    df_scaled = scaler.fit_transform(selected_features)\n",
    "    print(df_scaled)\n",
    "else:\n",
    "    print(\"The DataFrame `selected_features` is empty. Please check your data preparation steps.\")\n"
   ]
  },
  {
   "cell_type": "code",
   "execution_count": null,
   "id": "12b37624-ffe0-48d5-a83b-eeaaef5a3e8b",
   "metadata": {},
   "outputs": [],
   "source": [
    "from sklearn.model_selection import train_test_split\n",
    "from sklearn.ensemble import RandomForestClassifier\n",
    "\n",
    "X_train, X_test, y_train, y_test = train_test_split(v1, df['v2'], test_size=0.2, random_state=42)\n",
    "model = RandomForestClassifier()\n",
    "model.fit(X_train, y_train)\n"
   ]
  },
  {
   "cell_type": "code",
   "execution_count": null,
   "id": "702d6d8a-c4d9-4df9-b14a-e164cd1945dc",
   "metadata": {},
   "outputs": [],
   "source": [
    "from sklearn.metrics import classification_report, accuracy_score\n",
    "\n",
    "y_pred = model.predict(X_test)\n",
    "print(accuracy_score(y_test, y_pred))\n",
    "print(classification_report(y_test, y_pred))\n"
   ]
  },
  {
   "cell_type": "code",
   "execution_count": null,
   "id": "219ae8e8-d8a1-4c25-b16d-b4f973a9a196",
   "metadata": {},
   "outputs": [],
   "source": [
    "from sklearn.model_selection import GridSearchCV\n",
    "\n",
    "param_grid = {'n_estimators': [100, 200], 'max_depth': [10, 20]}\n",
    "grid_search = GridSearchCV(RandomForestClassifier(), param_grid, cv=5)\n",
    "grid_search.fit(X_train, y_train)\n",
    "print(grid_search.best_params_)\n"
   ]
  }
 ],
 "metadata": {
  "kernelspec": {
   "display_name": "Python 3 (ipykernel)",
   "language": "python",
   "name": "python3"
  },
  "language_info": {
   "codemirror_mode": {
    "name": "ipython",
    "version": 3
   },
   "file_extension": ".py",
   "mimetype": "text/x-python",
   "name": "python",
   "nbconvert_exporter": "python",
   "pygments_lexer": "ipython3",
   "version": "3.12.1"
  }
 },
 "nbformat": 4,
 "nbformat_minor": 5
}
